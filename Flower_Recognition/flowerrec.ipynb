{
 "cells": [
  {
   "cell_type": "code",
   "execution_count": 1,
   "metadata": {},
   "outputs": [],
   "source": [
    "# importing libraries"
   ]
  },
  {
   "cell_type": "code",
   "execution_count": 2,
   "metadata": {},
   "outputs": [],
   "source": [
    "import numpy as np\n",
    "import tensorflow as tf\n",
    "from keras.preprocessing.image import ImageDataGenerator"
   ]
  },
  {
   "cell_type": "code",
   "execution_count": 3,
   "metadata": {},
   "outputs": [
    {
     "data": {
      "text/plain": [
       "'2.6.0'"
      ]
     },
     "execution_count": 3,
     "metadata": {},
     "output_type": "execute_result"
    }
   ],
   "source": [
    "tf.__version__"
   ]
  },
  {
   "cell_type": "code",
   "execution_count": 4,
   "metadata": {},
   "outputs": [],
   "source": [
    "# Data Preprocessing"
   ]
  },
  {
   "cell_type": "code",
   "execution_count": 5,
   "metadata": {},
   "outputs": [],
   "source": [
    "# Training Image Processing"
   ]
  },
  {
   "cell_type": "code",
   "execution_count": 6,
   "metadata": {},
   "outputs": [
    {
     "name": "stdout",
     "output_type": "stream",
     "text": [
      "Found 2700 images belonging to 5 classes.\n"
     ]
    }
   ],
   "source": [
    "train_datagen = ImageDataGenerator(\n",
    "        rescale=1./255,\n",
    "        shear_range=0.2,\n",
    "        zoom_range=0.2,\n",
    "        horizontal_flip=True)\n",
    "training_set = train_datagen.flow_from_directory(\n",
    "                'training_set',target_size=(64,64),batch_size=32,class_mode='categorical')"
   ]
  },
  {
   "cell_type": "code",
   "execution_count": 7,
   "metadata": {},
   "outputs": [],
   "source": [
    "#Test Image  Processing"
   ]
  },
  {
   "cell_type": "code",
   "execution_count": 8,
   "metadata": {},
   "outputs": [
    {
     "name": "stdout",
     "output_type": "stream",
     "text": [
      "Found 1617 images belonging to 5 classes.\n"
     ]
    }
   ],
   "source": [
    "test_datagen = ImageDataGenerator(rescale=1./255)\n",
    "test_set = test_datagen.flow_from_directory('test_set',target_size=(64,64),batch_size=32,class_mode='categorical')"
   ]
  },
  {
   "cell_type": "code",
   "execution_count": 9,
   "metadata": {},
   "outputs": [],
   "source": [
    "#Building Model"
   ]
  },
  {
   "cell_type": "code",
   "execution_count": 10,
   "metadata": {},
   "outputs": [],
   "source": [
    "cnn = tf.keras.models.Sequential()"
   ]
  },
  {
   "cell_type": "code",
   "execution_count": 11,
   "metadata": {},
   "outputs": [],
   "source": [
    "# Building Convolution Layer"
   ]
  },
  {
   "cell_type": "code",
   "execution_count": 12,
   "metadata": {},
   "outputs": [],
   "source": [
    "cnn.add(tf.keras.layers.Conv2D(filters=64,kernel_size=3,activation='relu',input_shape=[64,64,3]))\n",
    "cnn.add(tf.keras.layers.MaxPool2D(pool_size=2,strides=2))"
   ]
  },
  {
   "cell_type": "code",
   "execution_count": 13,
   "metadata": {},
   "outputs": [],
   "source": [
    "cnn.add(tf.keras.layers.Conv2D(filters=64,kernel_size=3,activation='relu'))\n",
    "cnn.add(tf.keras.layers.MaxPool2D(pool_size=2,strides=2))"
   ]
  },
  {
   "cell_type": "code",
   "execution_count": 14,
   "metadata": {},
   "outputs": [],
   "source": [
    "cnn.add(tf.keras.layers.Dropout(0.5))"
   ]
  },
  {
   "cell_type": "code",
   "execution_count": 15,
   "metadata": {},
   "outputs": [],
   "source": [
    "cnn.add(tf.keras.layers.Flatten())"
   ]
  },
  {
   "cell_type": "code",
   "execution_count": 16,
   "metadata": {},
   "outputs": [],
   "source": [
    "cnn.add(tf.keras.layers.Dense(units=128 , activation='relu'))"
   ]
  },
  {
   "cell_type": "code",
   "execution_count": 17,
   "metadata": {},
   "outputs": [],
   "source": [
    "cnn.add(tf.keras.layers.Dense(units=5 , activation='softmax'))"
   ]
  },
  {
   "cell_type": "code",
   "execution_count": 18,
   "metadata": {},
   "outputs": [],
   "source": [
    "cnn.compile(optimizer='rmsprop',loss='categorical_crossentropy',metrics=['accuracy'])"
   ]
  },
  {
   "cell_type": "code",
   "execution_count": 19,
   "metadata": {},
   "outputs": [
    {
     "name": "stdout",
     "output_type": "stream",
     "text": [
      "Epoch 1/50\n",
      "85/85 [==============================] - 57s 657ms/step - loss: 1.3743 - accuracy: 0.4044 - val_loss: 1.1581 - val_accuracy: 0.5281\n",
      "Epoch 2/50\n",
      "85/85 [==============================] - 27s 317ms/step - loss: 1.1556 - accuracy: 0.5289 - val_loss: 1.1000 - val_accuracy: 0.5461\n",
      "Epoch 3/50\n",
      "85/85 [==============================] - 27s 316ms/step - loss: 1.0551 - accuracy: 0.5896 - val_loss: 1.0812 - val_accuracy: 0.5578\n",
      "Epoch 4/50\n",
      "85/85 [==============================] - 26s 306ms/step - loss: 0.9692 - accuracy: 0.6133 - val_loss: 1.1171 - val_accuracy: 0.5541\n",
      "Epoch 5/50\n",
      "85/85 [==============================] - 27s 314ms/step - loss: 0.9144 - accuracy: 0.6430 - val_loss: 0.9052 - val_accuracy: 0.6630\n",
      "Epoch 6/50\n",
      "85/85 [==============================] - 27s 315ms/step - loss: 0.8682 - accuracy: 0.6656 - val_loss: 0.9731 - val_accuracy: 0.6147\n",
      "Epoch 7/50\n",
      "85/85 [==============================] - 27s 321ms/step - loss: 0.8305 - accuracy: 0.6907 - val_loss: 0.8751 - val_accuracy: 0.6673\n",
      "Epoch 8/50\n",
      "85/85 [==============================] - 28s 328ms/step - loss: 0.7852 - accuracy: 0.6989 - val_loss: 0.8998 - val_accuracy: 0.6562\n",
      "Epoch 9/50\n",
      "85/85 [==============================] - 27s 316ms/step - loss: 0.7599 - accuracy: 0.7093 - val_loss: 0.8865 - val_accuracy: 0.6784\n",
      "Epoch 10/50\n",
      "85/85 [==============================] - 27s 320ms/step - loss: 0.7190 - accuracy: 0.7337 - val_loss: 0.8643 - val_accuracy: 0.6920\n",
      "Epoch 11/50\n",
      "85/85 [==============================] - 26s 302ms/step - loss: 0.7012 - accuracy: 0.7419 - val_loss: 0.9265 - val_accuracy: 0.6617\n",
      "Epoch 12/50\n",
      "85/85 [==============================] - 27s 313ms/step - loss: 0.6682 - accuracy: 0.7404 - val_loss: 0.8648 - val_accuracy: 0.6865\n",
      "Epoch 13/50\n",
      "85/85 [==============================] - 26s 312ms/step - loss: 0.6410 - accuracy: 0.7441 - val_loss: 0.8292 - val_accuracy: 0.7001\n",
      "Epoch 14/50\n",
      "85/85 [==============================] - 26s 306ms/step - loss: 0.6232 - accuracy: 0.7578 - val_loss: 1.1247 - val_accuracy: 0.6487\n",
      "Epoch 15/50\n",
      "85/85 [==============================] - 27s 319ms/step - loss: 0.6046 - accuracy: 0.7730 - val_loss: 0.8816 - val_accuracy: 0.6908\n",
      "Epoch 16/50\n",
      "85/85 [==============================] - 27s 320ms/step - loss: 0.5722 - accuracy: 0.7856 - val_loss: 0.8795 - val_accuracy: 0.6741\n",
      "Epoch 17/50\n",
      "85/85 [==============================] - 27s 320ms/step - loss: 0.5535 - accuracy: 0.7919 - val_loss: 0.9426 - val_accuracy: 0.6611\n",
      "Epoch 18/50\n",
      "85/85 [==============================] - 26s 304ms/step - loss: 0.5682 - accuracy: 0.7893 - val_loss: 1.0309 - val_accuracy: 0.6456\n",
      "Epoch 19/50\n",
      "85/85 [==============================] - 25s 300ms/step - loss: 0.5002 - accuracy: 0.8119 - val_loss: 1.1144 - val_accuracy: 0.6456\n",
      "Epoch 20/50\n",
      "85/85 [==============================] - 25s 295ms/step - loss: 0.5176 - accuracy: 0.8056 - val_loss: 1.0262 - val_accuracy: 0.6821\n",
      "Epoch 21/50\n",
      "85/85 [==============================] - 27s 318ms/step - loss: 0.4804 - accuracy: 0.8230 - val_loss: 1.0935 - val_accuracy: 0.6246\n",
      "Epoch 22/50\n",
      "85/85 [==============================] - 26s 309ms/step - loss: 0.4750 - accuracy: 0.8226 - val_loss: 1.2204 - val_accuracy: 0.6450\n",
      "Epoch 23/50\n",
      "85/85 [==============================] - 27s 316ms/step - loss: 0.4585 - accuracy: 0.8415 - val_loss: 1.1072 - val_accuracy: 0.6611\n",
      "Epoch 24/50\n",
      "85/85 [==============================] - 27s 317ms/step - loss: 0.4394 - accuracy: 0.8356 - val_loss: 0.9596 - val_accuracy: 0.6834\n",
      "Epoch 25/50\n",
      "85/85 [==============================] - 27s 316ms/step - loss: 0.4460 - accuracy: 0.8378 - val_loss: 0.9168 - val_accuracy: 0.6933\n",
      "Epoch 26/50\n",
      "85/85 [==============================] - 26s 307ms/step - loss: 0.4112 - accuracy: 0.8522 - val_loss: 1.1293 - val_accuracy: 0.6642\n",
      "Epoch 27/50\n",
      "85/85 [==============================] - 25s 294ms/step - loss: 0.4161 - accuracy: 0.8470 - val_loss: 1.0215 - val_accuracy: 0.6945\n",
      "Epoch 28/50\n",
      "85/85 [==============================] - 25s 295ms/step - loss: 0.4226 - accuracy: 0.8407 - val_loss: 0.9670 - val_accuracy: 0.6871\n",
      "Epoch 29/50\n",
      "85/85 [==============================] - 26s 312ms/step - loss: 0.4043 - accuracy: 0.8419 - val_loss: 0.9744 - val_accuracy: 0.6729\n",
      "Epoch 30/50\n",
      "85/85 [==============================] - 27s 315ms/step - loss: 0.3601 - accuracy: 0.8659 - val_loss: 1.2282 - val_accuracy: 0.6623\n",
      "Epoch 31/50\n",
      "85/85 [==============================] - 27s 321ms/step - loss: 0.3728 - accuracy: 0.8648 - val_loss: 1.1257 - val_accuracy: 0.6710\n",
      "Epoch 32/50\n",
      "85/85 [==============================] - 25s 293ms/step - loss: 0.3465 - accuracy: 0.8715 - val_loss: 1.2214 - val_accuracy: 0.6555\n",
      "Epoch 33/50\n",
      "85/85 [==============================] - 25s 294ms/step - loss: 0.3492 - accuracy: 0.8781 - val_loss: 1.2331 - val_accuracy: 0.6549\n",
      "Epoch 34/50\n",
      "85/85 [==============================] - 25s 293ms/step - loss: 0.3580 - accuracy: 0.8704 - val_loss: 1.1464 - val_accuracy: 0.6549\n",
      "Epoch 35/50\n",
      "85/85 [==============================] - 25s 297ms/step - loss: 0.3471 - accuracy: 0.8759 - val_loss: 1.0645 - val_accuracy: 0.6871\n",
      "Epoch 36/50\n",
      "85/85 [==============================] - 28s 335ms/step - loss: 0.3165 - accuracy: 0.8896 - val_loss: 1.1969 - val_accuracy: 0.6865\n",
      "Epoch 37/50\n",
      "85/85 [==============================] - 27s 319ms/step - loss: 0.3128 - accuracy: 0.8859 - val_loss: 1.6854 - val_accuracy: 0.6636\n",
      "Epoch 38/50\n",
      "85/85 [==============================] - 27s 317ms/step - loss: 0.3367 - accuracy: 0.8856 - val_loss: 1.1555 - val_accuracy: 0.6914\n",
      "Epoch 39/50\n",
      "85/85 [==============================] - 25s 300ms/step - loss: 0.2923 - accuracy: 0.9033 - val_loss: 1.2236 - val_accuracy: 0.6852\n",
      "Epoch 40/50\n",
      "85/85 [==============================] - 27s 314ms/step - loss: 0.3229 - accuracy: 0.8852 - val_loss: 1.0804 - val_accuracy: 0.6636\n",
      "Epoch 41/50\n",
      "85/85 [==============================] - 28s 332ms/step - loss: 0.2983 - accuracy: 0.8952 - val_loss: 1.6586 - val_accuracy: 0.6463\n",
      "Epoch 42/50\n",
      "85/85 [==============================] - 27s 315ms/step - loss: 0.3069 - accuracy: 0.8915 - val_loss: 1.2285 - val_accuracy: 0.6982\n",
      "Epoch 43/50\n",
      "85/85 [==============================] - 25s 302ms/step - loss: 0.2657 - accuracy: 0.9070 - val_loss: 1.1958 - val_accuracy: 0.7013\n",
      "Epoch 44/50\n",
      "85/85 [==============================] - 25s 293ms/step - loss: 0.2741 - accuracy: 0.9048 - val_loss: 1.2826 - val_accuracy: 0.7038\n",
      "Epoch 45/50\n",
      "85/85 [==============================] - 25s 296ms/step - loss: 0.2553 - accuracy: 0.9096 - val_loss: 1.6414 - val_accuracy: 0.6685\n",
      "Epoch 46/50\n",
      "85/85 [==============================] - 25s 293ms/step - loss: 0.2376 - accuracy: 0.9152 - val_loss: 1.3027 - val_accuracy: 0.6877\n",
      "Epoch 47/50\n",
      "85/85 [==============================] - 25s 293ms/step - loss: 0.2584 - accuracy: 0.9107 - val_loss: 1.5081 - val_accuracy: 0.6623\n",
      "Epoch 48/50\n",
      "85/85 [==============================] - 25s 293ms/step - loss: 0.2476 - accuracy: 0.9144 - val_loss: 1.1909 - val_accuracy: 0.6858\n",
      "Epoch 49/50\n",
      "85/85 [==============================] - 25s 294ms/step - loss: 0.2715 - accuracy: 0.9096 - val_loss: 1.4595 - val_accuracy: 0.6945\n",
      "Epoch 50/50\n",
      "85/85 [==============================] - 25s 293ms/step - loss: 0.2477 - accuracy: 0.9096 - val_loss: 1.1741 - val_accuracy: 0.6883\n"
     ]
    },
    {
     "data": {
      "text/plain": [
       "<keras.callbacks.History at 0x1f80d5897c0>"
      ]
     },
     "execution_count": 19,
     "metadata": {},
     "output_type": "execute_result"
    }
   ],
   "source": [
    "cnn.fit(x = training_set , validation_data = test_set , epochs = 50)"
   ]
  },
  {
   "cell_type": "code",
   "execution_count": null,
   "metadata": {},
   "outputs": [],
   "source": []
  },
  {
   "cell_type": "code",
   "execution_count": 25,
   "metadata": {},
   "outputs": [],
   "source": [
    "from keras.preprocessing import image\n",
    "test_image = image.load_img('Prediction/d4.jpg',target_size=(64,64))\n",
    "test_image = image.img_to_array(test_image)\n",
    "test_image = np.expand_dims(test_image,axis=0)\n",
    "result = cnn.predict(test_image)\n"
   ]
  },
  {
   "cell_type": "code",
   "execution_count": 26,
   "metadata": {},
   "outputs": [],
   "source": [
    "#Preprocess new image"
   ]
  },
  {
   "cell_type": "code",
   "execution_count": 27,
   "metadata": {},
   "outputs": [
    {
     "data": {
      "text/plain": [
       "{'daisy': 0, 'dandelion': 1, 'rose': 2, 'sunflower': 3, 'tulip': 4}"
      ]
     },
     "execution_count": 27,
     "metadata": {},
     "output_type": "execute_result"
    }
   ],
   "source": [
    "training_set.class_indices"
   ]
  },
  {
   "cell_type": "code",
   "execution_count": 28,
   "metadata": {},
   "outputs": [
    {
     "name": "stdout",
     "output_type": "stream",
     "text": [
      "[[1. 0. 0. 0. 0.]]\n"
     ]
    }
   ],
   "source": [
    "print(result)"
   ]
  },
  {
   "cell_type": "code",
   "execution_count": 29,
   "metadata": {},
   "outputs": [
    {
     "name": "stdout",
     "output_type": "stream",
     "text": [
      "Daisy\n"
     ]
    }
   ],
   "source": [
    "if result[0][0]==1:\n",
    "    print('Daisy')\n",
    "elif result[0][1]==1:\n",
    "    print('Dandelion')\n",
    "elif result[0][2]==1:\n",
    "    print('Rose')\n",
    "elif result[0][3]==1:\n",
    "    print('Sunflower')\n",
    "elif result[0][4]==1:\n",
    "    print('Tulip')"
   ]
  },
  {
   "cell_type": "code",
   "execution_count": null,
   "metadata": {},
   "outputs": [],
   "source": []
  },
  {
   "cell_type": "code",
   "execution_count": null,
   "metadata": {},
   "outputs": [],
   "source": []
  }
 ],
 "metadata": {
  "kernelspec": {
   "display_name": "Python 3",
   "language": "python",
   "name": "python3"
  },
  "language_info": {
   "codemirror_mode": {
    "name": "ipython",
    "version": 3
   },
   "file_extension": ".py",
   "mimetype": "text/x-python",
   "name": "python",
   "nbconvert_exporter": "python",
   "pygments_lexer": "ipython3",
   "version": "3.8.3"
  }
 },
 "nbformat": 4,
 "nbformat_minor": 4
}
