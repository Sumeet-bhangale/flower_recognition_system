{
 "cells": [
  {
   "cell_type": "code",
   "execution_count": 5,
   "metadata": {},
   "outputs": [],
   "source": [
    "# importing libraries"
   ]
  },
  {
   "cell_type": "code",
   "execution_count": 6,
   "metadata": {},
   "outputs": [],
   "source": [
    "import numpy as np\n",
    "import tensorflow as tf\n",
    "from keras.preprocessing.image import ImageDataGenerator"
   ]
  },
  {
   "cell_type": "code",
   "execution_count": 7,
   "metadata": {},
   "outputs": [
    {
     "data": {
      "text/plain": [
       "'2.6.0'"
      ]
     },
     "execution_count": 7,
     "metadata": {},
     "output_type": "execute_result"
    }
   ],
   "source": [
    "tf.__version__"
   ]
  },
  {
   "cell_type": "code",
   "execution_count": 8,
   "metadata": {},
   "outputs": [],
   "source": [
    "# Data Preprocessing"
   ]
  },
  {
   "cell_type": "code",
   "execution_count": 9,
   "metadata": {},
   "outputs": [],
   "source": [
    "# Training Image Processing"
   ]
  },
  {
   "cell_type": "code",
   "execution_count": 10,
   "metadata": {},
   "outputs": [
    {
     "name": "stdout",
     "output_type": "stream",
     "text": [
      "Found 2880 images belonging to 5 classes.\n"
     ]
    }
   ],
   "source": [
    "train_datagen = ImageDataGenerator(\n",
    "        rescale=1./255,\n",
    "        shear_range=0.2,\n",
    "        zoom_range=0.2,\n",
    "        horizontal_flip=True)\n",
    "training_set = train_datagen.flow_from_directory(\n",
    "                'training_set',target_size=(64,64),batch_size=32,class_mode='categorical')"
   ]
  },
  {
   "cell_type": "code",
   "execution_count": 11,
   "metadata": {},
   "outputs": [],
   "source": [
    "#Test Image  Processing"
   ]
  },
  {
   "cell_type": "code",
   "execution_count": 12,
   "metadata": {},
   "outputs": [
    {
     "name": "stdout",
     "output_type": "stream",
     "text": [
      "Found 1437 images belonging to 5 classes.\n"
     ]
    }
   ],
   "source": [
    "test_datagen = ImageDataGenerator(rescale=1./255)\n",
    "test_set = test_datagen.flow_from_directory('test_set',target_size=(64,64),batch_size=32,class_mode='categorical')"
   ]
  },
  {
   "cell_type": "code",
   "execution_count": 13,
   "metadata": {},
   "outputs": [],
   "source": [
    "#Building Model"
   ]
  },
  {
   "cell_type": "code",
   "execution_count": 14,
   "metadata": {},
   "outputs": [],
   "source": [
    "cnn = tf.keras.models.Sequential()"
   ]
  },
  {
   "cell_type": "code",
   "execution_count": 15,
   "metadata": {},
   "outputs": [],
   "source": [
    "# Building Convolution Layer"
   ]
  },
  {
   "cell_type": "code",
   "execution_count": 16,
   "metadata": {},
   "outputs": [],
   "source": [
    "cnn.add(tf.keras.layers.Conv2D(filters=64,kernel_size=3,activation='relu',input_shape=[64,64,3]))\n",
    "cnn.add(tf.keras.layers.MaxPool2D(pool_size=2,strides=2))"
   ]
  },
  {
   "cell_type": "code",
   "execution_count": 17,
   "metadata": {},
   "outputs": [],
   "source": [
    "cnn.add(tf.keras.layers.Conv2D(filters=64,kernel_size=3,activation='relu',input_shape=[64,64,3]))\n",
    "cnn.add(tf.keras.layers.MaxPool2D(pool_size=2,strides=2))"
   ]
  },
  {
   "cell_type": "code",
   "execution_count": 18,
   "metadata": {},
   "outputs": [],
   "source": [
    "cnn.add(tf.keras.layers.Dropout(0.5))"
   ]
  },
  {
   "cell_type": "code",
   "execution_count": 19,
   "metadata": {},
   "outputs": [],
   "source": [
    "cnn.add(tf.keras.layers.Flatten())"
   ]
  },
  {
   "cell_type": "code",
   "execution_count": 20,
   "metadata": {},
   "outputs": [],
   "source": [
    "cnn.add(tf.keras.layers.Dense(units=128 , activation='relu'))"
   ]
  },
  {
   "cell_type": "code",
   "execution_count": 21,
   "metadata": {},
   "outputs": [],
   "source": [
    "cnn.add(tf.keras.layers.Dense(units=5 , activation='softmax'))"
   ]
  },
  {
   "cell_type": "code",
   "execution_count": null,
   "metadata": {},
   "outputs": [],
   "source": [
    "cnn.compile(optimizer='rmsprop',loss='categorical',metrics=['accuracy'])"
   ]
  },
  {
   "cell_type": "code",
   "execution_count": 24,
   "metadata": {},
   "outputs": [
    {
     "name": "stdout",
     "output_type": "stream",
     "text": [
      "Epoch 1/50\n",
      "90/90 [==============================] - 29s 315ms/step - loss: 1.4296 - accuracy: 0.3917 - val_loss: 1.1717 - val_accuracy: 0.5108\n",
      "Epoch 2/50\n",
      "90/90 [==============================] - 28s 308ms/step - loss: 1.1414 - accuracy: 0.5406 - val_loss: 1.0533 - val_accuracy: 0.5755\n",
      "Epoch 3/50\n",
      "90/90 [==============================] - 28s 307ms/step - loss: 1.0384 - accuracy: 0.5823 - val_loss: 1.0037 - val_accuracy: 0.6089\n",
      "Epoch 4/50\n",
      "90/90 [==============================] - 28s 311ms/step - loss: 0.9691 - accuracy: 0.6226 - val_loss: 0.9570 - val_accuracy: 0.6242\n",
      "Epoch 5/50\n",
      "90/90 [==============================] - 27s 305ms/step - loss: 0.9199 - accuracy: 0.6406 - val_loss: 0.8975 - val_accuracy: 0.6604\n",
      "Epoch 6/50\n",
      "90/90 [==============================] - 28s 308ms/step - loss: 0.8662 - accuracy: 0.6639 - val_loss: 0.9991 - val_accuracy: 0.5936\n",
      "Epoch 7/50\n",
      "90/90 [==============================] - 28s 309ms/step - loss: 0.8284 - accuracy: 0.6903 - val_loss: 0.8752 - val_accuracy: 0.6618\n",
      "Epoch 8/50\n",
      "90/90 [==============================] - 28s 308ms/step - loss: 0.8029 - accuracy: 0.6965 - val_loss: 0.9028 - val_accuracy: 0.6555\n",
      "Epoch 9/50\n",
      "90/90 [==============================] - 28s 316ms/step - loss: 0.7605 - accuracy: 0.7066 - val_loss: 0.8663 - val_accuracy: 0.6555\n",
      "Epoch 10/50\n",
      "90/90 [==============================] - 27s 305ms/step - loss: 0.7362 - accuracy: 0.7111 - val_loss: 0.9216 - val_accuracy: 0.6715\n",
      "Epoch 11/50\n",
      "90/90 [==============================] - 27s 305ms/step - loss: 0.7007 - accuracy: 0.7358 - val_loss: 0.7790 - val_accuracy: 0.6959\n",
      "Epoch 12/50\n",
      "90/90 [==============================] - 28s 311ms/step - loss: 0.6765 - accuracy: 0.7448 - val_loss: 0.8151 - val_accuracy: 0.7001\n",
      "Epoch 13/50\n",
      "90/90 [==============================] - 27s 303ms/step - loss: 0.6547 - accuracy: 0.7583 - val_loss: 1.0213 - val_accuracy: 0.6444\n",
      "Epoch 14/50\n",
      "90/90 [==============================] - 27s 303ms/step - loss: 0.6220 - accuracy: 0.7618 - val_loss: 0.9642 - val_accuracy: 0.6555\n",
      "Epoch 15/50\n",
      "90/90 [==============================] - 27s 304ms/step - loss: 0.6201 - accuracy: 0.7715 - val_loss: 0.8898 - val_accuracy: 0.6778\n",
      "Epoch 16/50\n",
      "90/90 [==============================] - 28s 309ms/step - loss: 0.5934 - accuracy: 0.7743 - val_loss: 0.8737 - val_accuracy: 0.7001\n",
      "Epoch 17/50\n",
      "90/90 [==============================] - 27s 305ms/step - loss: 0.5815 - accuracy: 0.7844 - val_loss: 0.8092 - val_accuracy: 0.7098\n",
      "Epoch 18/50\n",
      "90/90 [==============================] - 27s 304ms/step - loss: 0.5431 - accuracy: 0.7983 - val_loss: 0.8699 - val_accuracy: 0.6889\n",
      "Epoch 19/50\n",
      "90/90 [==============================] - 27s 304ms/step - loss: 0.5389 - accuracy: 0.8024 - val_loss: 0.8527 - val_accuracy: 0.6938\n",
      "Epoch 20/50\n",
      "90/90 [==============================] - 27s 304ms/step - loss: 0.5411 - accuracy: 0.8052 - val_loss: 0.8885 - val_accuracy: 0.6896\n",
      "Epoch 21/50\n",
      "90/90 [==============================] - 28s 306ms/step - loss: 0.5062 - accuracy: 0.8132 - val_loss: 0.8812 - val_accuracy: 0.6952\n",
      "Epoch 22/50\n",
      "90/90 [==============================] - 27s 303ms/step - loss: 0.4952 - accuracy: 0.8163 - val_loss: 0.8410 - val_accuracy: 0.7168\n",
      "Epoch 23/50\n",
      "90/90 [==============================] - 28s 309ms/step - loss: 0.4720 - accuracy: 0.8302 - val_loss: 0.9690 - val_accuracy: 0.6855\n",
      "Epoch 24/50\n",
      "90/90 [==============================] - 27s 304ms/step - loss: 0.4755 - accuracy: 0.8247 - val_loss: 1.0006 - val_accuracy: 0.6729\n",
      "Epoch 25/50\n",
      "90/90 [==============================] - 28s 308ms/step - loss: 0.4592 - accuracy: 0.8344 - val_loss: 0.9628 - val_accuracy: 0.6660\n",
      "Epoch 26/50\n",
      "90/90 [==============================] - 27s 298ms/step - loss: 0.4476 - accuracy: 0.8333 - val_loss: 0.8563 - val_accuracy: 0.7035\n",
      "Epoch 27/50\n",
      "90/90 [==============================] - 27s 296ms/step - loss: 0.4153 - accuracy: 0.8476 - val_loss: 1.0389 - val_accuracy: 0.6722\n",
      "Epoch 28/50\n",
      "90/90 [==============================] - 27s 298ms/step - loss: 0.4130 - accuracy: 0.8472 - val_loss: 1.0202 - val_accuracy: 0.6834\n",
      "Epoch 29/50\n",
      "90/90 [==============================] - 27s 296ms/step - loss: 0.3931 - accuracy: 0.8573 - val_loss: 0.9460 - val_accuracy: 0.7091\n",
      "Epoch 30/50\n",
      "90/90 [==============================] - 27s 299ms/step - loss: 0.3901 - accuracy: 0.8559 - val_loss: 0.9965 - val_accuracy: 0.6875\n",
      "Epoch 31/50\n",
      "90/90 [==============================] - 27s 297ms/step - loss: 0.3754 - accuracy: 0.8639 - val_loss: 1.0167 - val_accuracy: 0.6980\n",
      "Epoch 32/50\n",
      "90/90 [==============================] - 27s 300ms/step - loss: 0.3489 - accuracy: 0.8750 - val_loss: 1.0285 - val_accuracy: 0.7063\n",
      "Epoch 33/50\n",
      "90/90 [==============================] - 27s 299ms/step - loss: 0.3631 - accuracy: 0.8691 - val_loss: 0.9692 - val_accuracy: 0.6966\n",
      "Epoch 34/50\n",
      "90/90 [==============================] - 27s 298ms/step - loss: 0.3626 - accuracy: 0.8646 - val_loss: 0.9668 - val_accuracy: 0.7008\n",
      "Epoch 35/50\n",
      "90/90 [==============================] - 27s 298ms/step - loss: 0.3347 - accuracy: 0.8795 - val_loss: 1.0711 - val_accuracy: 0.7063\n",
      "Epoch 36/50\n",
      "90/90 [==============================] - 27s 295ms/step - loss: 0.3316 - accuracy: 0.8872 - val_loss: 1.0328 - val_accuracy: 0.7015\n",
      "Epoch 37/50\n",
      "90/90 [==============================] - 27s 296ms/step - loss: 0.2995 - accuracy: 0.8875 - val_loss: 1.1458 - val_accuracy: 0.7147\n",
      "Epoch 38/50\n",
      "90/90 [==============================] - 27s 296ms/step - loss: 0.3073 - accuracy: 0.8913 - val_loss: 1.2303 - val_accuracy: 0.6708\n",
      "Epoch 39/50\n",
      "90/90 [==============================] - 27s 297ms/step - loss: 0.3128 - accuracy: 0.8903 - val_loss: 1.0754 - val_accuracy: 0.7077\n",
      "Epoch 40/50\n",
      "90/90 [==============================] - 27s 296ms/step - loss: 0.2967 - accuracy: 0.8955 - val_loss: 1.1452 - val_accuracy: 0.7015\n",
      "Epoch 41/50\n",
      "90/90 [==============================] - 27s 296ms/step - loss: 0.3201 - accuracy: 0.8920 - val_loss: 1.0352 - val_accuracy: 0.7209\n",
      "Epoch 42/50\n",
      "90/90 [==============================] - 27s 296ms/step - loss: 0.3069 - accuracy: 0.8875 - val_loss: 1.0269 - val_accuracy: 0.7216\n",
      "Epoch 43/50\n",
      "90/90 [==============================] - 27s 296ms/step - loss: 0.2637 - accuracy: 0.9076 - val_loss: 1.0954 - val_accuracy: 0.7182\n",
      "Epoch 44/50\n",
      "90/90 [==============================] - 27s 295ms/step - loss: 0.2839 - accuracy: 0.9031 - val_loss: 1.2609 - val_accuracy: 0.6764\n",
      "Epoch 45/50\n",
      "90/90 [==============================] - 27s 297ms/step - loss: 0.2712 - accuracy: 0.9073 - val_loss: 1.2193 - val_accuracy: 0.6952\n",
      "Epoch 46/50\n",
      "90/90 [==============================] - 27s 295ms/step - loss: 0.2812 - accuracy: 0.9056 - val_loss: 1.1445 - val_accuracy: 0.7035\n",
      "Epoch 47/50\n",
      "90/90 [==============================] - 27s 296ms/step - loss: 0.2380 - accuracy: 0.9125 - val_loss: 1.2355 - val_accuracy: 0.6959\n",
      "Epoch 48/50\n",
      "90/90 [==============================] - 26s 294ms/step - loss: 0.2697 - accuracy: 0.9128 - val_loss: 1.3861 - val_accuracy: 0.6855\n",
      "Epoch 49/50\n",
      "90/90 [==============================] - 26s 294ms/step - loss: 0.2498 - accuracy: 0.9194 - val_loss: 1.1668 - val_accuracy: 0.7203\n",
      "Epoch 50/50\n",
      "90/90 [==============================] - 27s 296ms/step - loss: 0.2359 - accuracy: 0.9198 - val_loss: 1.1739 - val_accuracy: 0.7063\n"
     ]
    },
    {
     "data": {
      "text/plain": [
       "<keras.callbacks.History at 0x1d96b2f4c10>"
      ]
     },
     "execution_count": 24,
     "metadata": {},
     "output_type": "execute_result"
    }
   ],
   "source": [
    "cnn.fit(x = training_set , validation_data = test_set , epochs = 50)"
   ]
  },
  {
   "cell_type": "code",
   "execution_count": null,
   "metadata": {},
   "outputs": [],
   "source": []
  },
  {
   "cell_type": "code",
   "execution_count": 47,
   "metadata": {},
   "outputs": [],
   "source": [
    "from keras.preprocessing import image\n",
    "test_image = image.load_img('Prediction/dandelion.jpg',target_size=(64,64))\n",
    "test_image = image.img_to_array(test_image)\n",
    "test_image = np.expand_dims(test_image,axis=0)\n",
    "result = cnn.predict(test_image)\n"
   ]
  },
  {
   "cell_type": "code",
   "execution_count": 48,
   "metadata": {},
   "outputs": [],
   "source": [
    "#Preprocess new image"
   ]
  },
  {
   "cell_type": "code",
   "execution_count": 49,
   "metadata": {},
   "outputs": [
    {
     "data": {
      "text/plain": [
       "{'daisy': 0, 'dandelion': 1, 'rose': 2, 'sunflower': 3, 'tulip': 4}"
      ]
     },
     "execution_count": 49,
     "metadata": {},
     "output_type": "execute_result"
    }
   ],
   "source": [
    "training_set.class_indices"
   ]
  },
  {
   "cell_type": "code",
   "execution_count": 50,
   "metadata": {},
   "outputs": [
    {
     "name": "stdout",
     "output_type": "stream",
     "text": [
      "[[0. 0. 0. 1. 0.]]\n"
     ]
    }
   ],
   "source": [
    "print(result)"
   ]
  },
  {
   "cell_type": "code",
   "execution_count": 51,
   "metadata": {},
   "outputs": [
    {
     "name": "stdout",
     "output_type": "stream",
     "text": [
      "Sunflower\n"
     ]
    }
   ],
   "source": [
    "if result[0][0]==1:\n",
    "    print('Daisy')\n",
    "elif result[0][1]==1:\n",
    "    print('Dandelion')\n",
    "elif result[0][2]==1:\n",
    "    print('Rose')\n",
    "elif result[0][3]==1:\n",
    "    print('Sunflower')\n",
    "elif result[0][4]==1:\n",
    "    print('Tulip')"
   ]
  },
  {
   "cell_type": "code",
   "execution_count": null,
   "metadata": {},
   "outputs": [],
   "source": []
  },
  {
   "cell_type": "code",
   "execution_count": null,
   "metadata": {},
   "outputs": [],
   "source": []
  }
 ],
 "metadata": {
  "kernelspec": {
   "display_name": "Python 3",
   "language": "python",
   "name": "python3"
  },
  "language_info": {
   "codemirror_mode": {
    "name": "ipython",
    "version": 3
   },
   "file_extension": ".py",
   "mimetype": "text/x-python",
   "name": "python",
   "nbconvert_exporter": "python",
   "pygments_lexer": "ipython3",
   "version": "3.8.3"
  }
 },
 "nbformat": 4,
 "nbformat_minor": 4
}
